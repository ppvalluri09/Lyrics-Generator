{
  "nbformat": 4,
  "nbformat_minor": 0,
  "metadata": {
    "colab": {
      "name": "song_lyrics_generation.ipynb",
      "provenance": [],
      "collapsed_sections": []
    },
    "kernelspec": {
      "name": "python3",
      "display_name": "Python 3"
    },
    "accelerator": "GPU"
  },
  "cells": [
    {
      "cell_type": "code",
      "metadata": {
        "id": "wM1_aAWX2atL",
        "colab_type": "code",
        "colab": {}
      },
      "source": [
        "import tensorflow as tf\n",
        "from tensorflow.keras.preprocessing.text import Tokenizer\n",
        "from tensorflow.keras.preprocessing.sequence import pad_sequences\n",
        "from tensorflow.keras.layers import Embedding, Dropout, Dense, LSTM, Bidirectional, GlobalAveragePooling1D\n",
        "from tensorflow.keras.models import Sequential\n",
        "import pandas as pd\n",
        "import tensorflow.keras.utils as ku"
      ],
      "execution_count": 0,
      "outputs": []
    },
    {
      "cell_type": "code",
      "metadata": {
        "id": "9UyXUXl23A_S",
        "colab_type": "code",
        "colab": {}
      },
      "source": [
        "def get_data():\n",
        "    df = pd.read_csv(\"/content/drive/My Drive/songdata.csv\")['text'].values.tolist()\n",
        "    return df\n",
        "\n",
        "corpus = \" \".join(get_data())\n",
        "corpus = corpus.lower().split(\"\\n\")"
      ],
      "execution_count": 0,
      "outputs": []
    },
    {
      "cell_type": "code",
      "metadata": {
        "id": "F9yBVj613Ky7",
        "colab_type": "code",
        "outputId": "900b1d30-6c6b-49a9-9c3c-a30c868e8c84",
        "colab": {
          "base_uri": "https://localhost:8080/",
          "height": 68
        }
      },
      "source": [
        "print(\"Corpus Prepared\", \"\\n\", \"=\"*32, \"\\n\")"
      ],
      "execution_count": 3,
      "outputs": [
        {
          "output_type": "stream",
          "text": [
            "Corpus Prepared \n",
            " ================================ \n",
            "\n"
          ],
          "name": "stdout"
        }
      ]
    },
    {
      "cell_type": "code",
      "metadata": {
        "id": "C96Eeh4g3a-6",
        "colab_type": "code",
        "outputId": "11291712-d645-486a-f7c5-5dc9cc6c7972",
        "colab": {
          "base_uri": "https://localhost:8080/",
          "height": 34
        }
      },
      "source": [
        "tokenizer = Tokenizer()\n",
        "tokenizer.fit_on_texts(corpus)\n",
        "\n",
        "word_index = tokenizer.word_index\n",
        "total_words = len(word_index) + 1\n",
        "\n",
        "print(\"Vocab Size\", total_words)"
      ],
      "execution_count": 4,
      "outputs": [
        {
          "output_type": "stream",
          "text": [
            "Vocab Size 91677\n"
          ],
          "name": "stdout"
        }
      ]
    },
    {
      "cell_type": "code",
      "metadata": {
        "id": "r5CXR_XN3d_Y",
        "colab_type": "code",
        "colab": {}
      },
      "source": [
        "sequences = []\n",
        "\n",
        "for line in corpus:\n",
        "    sequence = tokenizer.texts_to_sequences([line])[0]\n",
        "    for i in range(1, len(sequence)):\n",
        "        each_line = sequence[:i+1]\n",
        "        sequences.append(each_line)"
      ],
      "execution_count": 0,
      "outputs": []
    },
    {
      "cell_type": "code",
      "metadata": {
        "id": "VF8tAiUY3iik",
        "colab_type": "code",
        "outputId": "6a2aa491-5b85-4a90-d6c2-a1de02daef89",
        "colab": {
          "base_uri": "https://localhost:8080/",
          "height": 34
        }
      },
      "source": [
        "max_len = max([len(x) for x in sequences])\n",
        "input_sequences = pad_sequences(sequences, maxlen=max_len, padding=\"pre\")\n",
        "input_sequences = input_sequences[:10000, :]\n",
        "\n",
        "print(\"Data Shape\", input_sequences.shape)"
      ],
      "execution_count": 6,
      "outputs": [
        {
          "output_type": "stream",
          "text": [
            "Data Shape (10000, 28)\n"
          ],
          "name": "stdout"
        }
      ]
    },
    {
      "cell_type": "code",
      "metadata": {
        "id": "Hv7x7Maa3jTB",
        "colab_type": "code",
        "outputId": "2333841e-db9b-49c5-d30f-7dd596b1866f",
        "colab": {
          "base_uri": "https://localhost:8080/",
          "height": 479
        }
      },
      "source": [
        "print(\"Preparing Model\\n\")\n",
        "model = Sequential()\n",
        "model.add(Embedding(total_words, 100, input_shape=(max_len-1,)))\n",
        "model.add(Bidirectional(LSTM(150, activation=tf.nn.relu, return_sequences=True)))\n",
        "# model.add(Bidirectional(LSTM(100, activation=tf.nn.relu, return_sequences=True)))\n",
        "model.add(Dropout(0.3))\n",
        "model.add(LSTM(100))\n",
        "model.add(Dense(1000, activation=tf.nn.relu))\n",
        "model.add(Dense(total_words, activation=tf.nn.softmax))\n",
        "\n",
        "model.compile(optimizer=tf.keras.optimizers.Adam(lr=0.001), loss=\"sparse_categorical_crossentropy\", metrics=[\"acc\"])\n",
        "print(model.summary())"
      ],
      "execution_count": 9,
      "outputs": [
        {
          "output_type": "stream",
          "text": [
            "Preparing Model\n",
            "\n",
            "WARNING:tensorflow:Layer lstm_2 will not use cuDNN kernel since it doesn't meet the cuDNN kernel criteria. It will use generic GPU kernel as fallback when running on GPU\n",
            "WARNING:tensorflow:Layer lstm_2 will not use cuDNN kernel since it doesn't meet the cuDNN kernel criteria. It will use generic GPU kernel as fallback when running on GPU\n",
            "WARNING:tensorflow:Layer lstm_2 will not use cuDNN kernel since it doesn't meet the cuDNN kernel criteria. It will use generic GPU kernel as fallback when running on GPU\n",
            "Model: \"sequential_1\"\n",
            "_________________________________________________________________\n",
            "Layer (type)                 Output Shape              Param #   \n",
            "=================================================================\n",
            "embedding_1 (Embedding)      (None, 27, 100)           9167700   \n",
            "_________________________________________________________________\n",
            "bidirectional_1 (Bidirection (None, 27, 300)           301200    \n",
            "_________________________________________________________________\n",
            "dropout_1 (Dropout)          (None, 27, 300)           0         \n",
            "_________________________________________________________________\n",
            "lstm_3 (LSTM)                (None, 100)               160400    \n",
            "_________________________________________________________________\n",
            "dense_2 (Dense)              (None, 1000)              101000    \n",
            "_________________________________________________________________\n",
            "dense_3 (Dense)              (None, 91677)             91768677  \n",
            "=================================================================\n",
            "Total params: 101,498,977\n",
            "Trainable params: 101,498,977\n",
            "Non-trainable params: 0\n",
            "_________________________________________________________________\n",
            "None\n"
          ],
          "name": "stdout"
        }
      ]
    },
    {
      "cell_type": "code",
      "metadata": {
        "id": "mjw6W6AS34OG",
        "colab_type": "code",
        "outputId": "1d74467a-b8a1-4cb9-ec18-913fb3e72e2a",
        "colab": {
          "base_uri": "https://localhost:8080/",
          "height": 1000
        }
      },
      "source": [
        "history = model.fit(input_sequences[:, :-1],\n",
        "                    input_sequences[:, -1],\n",
        "                    batch_size=64,\n",
        "                    epochs=100, verbose=1)"
      ],
      "execution_count": 10,
      "outputs": [
        {
          "output_type": "stream",
          "text": [
            "Epoch 1/100\n",
            "157/157 [==============================] - 33s 208ms/step - loss: 7.1555 - acc: 0.0348\n",
            "Epoch 2/100\n",
            "157/157 [==============================] - 32s 206ms/step - loss: 6.0606 - acc: 0.0407\n",
            "Epoch 3/100\n",
            "157/157 [==============================] - 32s 206ms/step - loss: 5.9995 - acc: 0.0393\n",
            "Epoch 4/100\n",
            "157/157 [==============================] - 32s 206ms/step - loss: 5.9788 - acc: 0.0396\n",
            "Epoch 5/100\n",
            "157/157 [==============================] - 32s 206ms/step - loss: 5.9766 - acc: 0.0403\n",
            "Epoch 6/100\n",
            "157/157 [==============================] - 33s 208ms/step - loss: 5.9685 - acc: 0.0391\n",
            "Epoch 7/100\n",
            "157/157 [==============================] - 32s 207ms/step - loss: 5.9574 - acc: 0.0398\n",
            "Epoch 8/100\n",
            "157/157 [==============================] - 32s 206ms/step - loss: 5.9545 - acc: 0.0398\n",
            "Epoch 9/100\n",
            "157/157 [==============================] - 33s 208ms/step - loss: 5.9465 - acc: 0.0417\n",
            "Epoch 10/100\n",
            "157/157 [==============================] - 33s 208ms/step - loss: 5.9445 - acc: 0.0421\n",
            "Epoch 11/100\n",
            "157/157 [==============================] - 32s 204ms/step - loss: 5.9421 - acc: 0.0419\n",
            "Epoch 12/100\n",
            "157/157 [==============================] - 32s 206ms/step - loss: 5.9373 - acc: 0.0400\n",
            "Epoch 13/100\n",
            "157/157 [==============================] - 32s 206ms/step - loss: 5.9374 - acc: 0.0371\n",
            "Epoch 14/100\n",
            "157/157 [==============================] - 32s 206ms/step - loss: 5.9324 - acc: 0.0396\n",
            "Epoch 15/100\n",
            "157/157 [==============================] - 33s 211ms/step - loss: 5.9291 - acc: 0.0424\n",
            "Epoch 16/100\n",
            "157/157 [==============================] - 32s 205ms/step - loss: 5.9255 - acc: 0.0419\n",
            "Epoch 17/100\n",
            "157/157 [==============================] - 32s 206ms/step - loss: 5.9230 - acc: 0.0400\n",
            "Epoch 18/100\n",
            "157/157 [==============================] - 32s 205ms/step - loss: 5.9206 - acc: 0.0401\n",
            "Epoch 19/100\n",
            "157/157 [==============================] - 33s 209ms/step - loss: 5.8905 - acc: 0.0417\n",
            "Epoch 20/100\n",
            "157/157 [==============================] - 32s 206ms/step - loss: 5.7155 - acc: 0.0418\n",
            "Epoch 21/100\n",
            "157/157 [==============================] - 33s 208ms/step - loss: 5.4646 - acc: 0.0535\n",
            "Epoch 22/100\n",
            "157/157 [==============================] - 33s 209ms/step - loss: 5.1832 - acc: 0.0661\n",
            "Epoch 23/100\n",
            "157/157 [==============================] - 33s 207ms/step - loss: 4.9557 - acc: 0.0795\n",
            "Epoch 24/100\n",
            "157/157 [==============================] - 33s 209ms/step - loss: 4.7529 - acc: 0.0973\n",
            "Epoch 25/100\n",
            "157/157 [==============================] - 33s 209ms/step - loss: 4.5480 - acc: 0.1139\n",
            "Epoch 26/100\n",
            "157/157 [==============================] - 33s 209ms/step - loss: 4.3392 - acc: 0.1372\n",
            "Epoch 27/100\n",
            "157/157 [==============================] - 33s 208ms/step - loss: 4.1413 - acc: 0.1646\n",
            "Epoch 28/100\n",
            "157/157 [==============================] - 33s 210ms/step - loss: 3.9600 - acc: 0.1924\n",
            "Epoch 29/100\n",
            "157/157 [==============================] - 33s 211ms/step - loss: 3.7965 - acc: 0.2189\n",
            "Epoch 30/100\n",
            "157/157 [==============================] - 33s 209ms/step - loss: 3.6419 - acc: 0.2418\n",
            "Epoch 31/100\n",
            "157/157 [==============================] - 33s 209ms/step - loss: 3.4941 - acc: 0.2651\n",
            "Epoch 32/100\n",
            "157/157 [==============================] - 33s 207ms/step - loss: 3.3539 - acc: 0.2826\n",
            "Epoch 33/100\n",
            "157/157 [==============================] - 33s 209ms/step - loss: 3.2241 - acc: 0.3068\n",
            "Epoch 34/100\n",
            "157/157 [==============================] - 33s 208ms/step - loss: 3.1056 - acc: 0.3199\n",
            "Epoch 35/100\n",
            "157/157 [==============================] - 33s 207ms/step - loss: 2.9846 - acc: 0.3379\n",
            "Epoch 36/100\n",
            "157/157 [==============================] - 32s 206ms/step - loss: 2.8642 - acc: 0.3627\n",
            "Epoch 37/100\n",
            "157/157 [==============================] - 33s 207ms/step - loss: 2.7563 - acc: 0.3801\n",
            "Epoch 38/100\n",
            "157/157 [==============================] - 32s 207ms/step - loss: 2.6527 - acc: 0.3959\n",
            "Epoch 39/100\n",
            "157/157 [==============================] - 33s 208ms/step - loss: 2.5443 - acc: 0.4117\n",
            "Epoch 40/100\n",
            "157/157 [==============================] - 33s 208ms/step - loss: 2.4575 - acc: 0.4260\n",
            "Epoch 41/100\n",
            "157/157 [==============================] - 32s 205ms/step - loss: 2.3650 - acc: 0.4395\n",
            "Epoch 42/100\n",
            "157/157 [==============================] - 32s 207ms/step - loss: 2.2796 - acc: 0.4623\n",
            "Epoch 43/100\n",
            "157/157 [==============================] - 33s 208ms/step - loss: 2.1957 - acc: 0.4696\n",
            "Epoch 44/100\n",
            "157/157 [==============================] - 33s 210ms/step - loss: 2.1153 - acc: 0.4893\n",
            "Epoch 45/100\n",
            "157/157 [==============================] - 33s 208ms/step - loss: 2.0406 - acc: 0.5012\n",
            "Epoch 46/100\n",
            "157/157 [==============================] - 33s 209ms/step - loss: 1.9659 - acc: 0.5147\n",
            "Epoch 47/100\n",
            "157/157 [==============================] - 33s 209ms/step - loss: 1.8947 - acc: 0.5267\n",
            "Epoch 48/100\n",
            "157/157 [==============================] - 32s 205ms/step - loss: 1.8399 - acc: 0.5413\n",
            "Epoch 49/100\n",
            "157/157 [==============================] - 32s 206ms/step - loss: 1.7599 - acc: 0.5570\n",
            "Epoch 50/100\n",
            "157/157 [==============================] - 32s 205ms/step - loss: 1.7106 - acc: 0.5629\n",
            "Epoch 51/100\n",
            "157/157 [==============================] - 33s 208ms/step - loss: 1.6423 - acc: 0.5822\n",
            "Epoch 52/100\n",
            "157/157 [==============================] - 32s 204ms/step - loss: 1.5954 - acc: 0.5898\n",
            "Epoch 53/100\n",
            "157/157 [==============================] - 33s 207ms/step - loss: 1.5477 - acc: 0.6017\n",
            "Epoch 54/100\n",
            "157/157 [==============================] - 32s 206ms/step - loss: 1.4921 - acc: 0.6094\n",
            "Epoch 55/100\n",
            "157/157 [==============================] - 32s 204ms/step - loss: 1.4492 - acc: 0.6205\n",
            "Epoch 56/100\n",
            "157/157 [==============================] - 33s 208ms/step - loss: 1.4141 - acc: 0.6259\n",
            "Epoch 57/100\n",
            "157/157 [==============================] - 32s 207ms/step - loss: 1.3572 - acc: 0.6392\n",
            "Epoch 58/100\n",
            "157/157 [==============================] - 32s 207ms/step - loss: 1.3207 - acc: 0.6549\n",
            "Epoch 59/100\n",
            "157/157 [==============================] - 32s 206ms/step - loss: 1.2992 - acc: 0.6540\n",
            "Epoch 60/100\n",
            "157/157 [==============================] - 32s 206ms/step - loss: 1.2562 - acc: 0.6650\n",
            "Epoch 61/100\n",
            "157/157 [==============================] - 32s 206ms/step - loss: 1.2302 - acc: 0.6643\n",
            "Epoch 62/100\n",
            "157/157 [==============================] - 32s 206ms/step - loss: 1.1922 - acc: 0.6732\n",
            "Epoch 63/100\n",
            "157/157 [==============================] - 33s 208ms/step - loss: 1.1530 - acc: 0.6912\n",
            "Epoch 64/100\n",
            "157/157 [==============================] - 33s 207ms/step - loss: 1.1434 - acc: 0.6828\n",
            "Epoch 65/100\n",
            "157/157 [==============================] - 33s 208ms/step - loss: 1.0889 - acc: 0.7010\n",
            "Epoch 66/100\n",
            "157/157 [==============================] - 33s 209ms/step - loss: 1.0883 - acc: 0.7004\n",
            "Epoch 67/100\n",
            "157/157 [==============================] - 32s 206ms/step - loss: 1.0506 - acc: 0.7107\n",
            "Epoch 68/100\n",
            "157/157 [==============================] - 32s 204ms/step - loss: 1.0341 - acc: 0.7077\n",
            "Epoch 69/100\n",
            "157/157 [==============================] - 32s 204ms/step - loss: 1.0039 - acc: 0.7217\n",
            "Epoch 70/100\n",
            "157/157 [==============================] - 32s 207ms/step - loss: 0.9886 - acc: 0.7280\n",
            "Epoch 71/100\n",
            "157/157 [==============================] - 32s 205ms/step - loss: 0.9746 - acc: 0.7218\n",
            "Epoch 72/100\n",
            "157/157 [==============================] - 33s 209ms/step - loss: 0.9395 - acc: 0.7330\n",
            "Epoch 73/100\n",
            "157/157 [==============================] - 32s 205ms/step - loss: 0.9308 - acc: 0.7359\n",
            "Epoch 74/100\n",
            "157/157 [==============================] - 33s 207ms/step - loss: 0.9082 - acc: 0.7432\n",
            "Epoch 75/100\n",
            "157/157 [==============================] - 33s 209ms/step - loss: 0.8964 - acc: 0.7425\n",
            "Epoch 76/100\n",
            "157/157 [==============================] - 33s 208ms/step - loss: 0.8809 - acc: 0.7475\n",
            "Epoch 77/100\n",
            "157/157 [==============================] - 32s 207ms/step - loss: 0.8759 - acc: 0.7461\n",
            "Epoch 78/100\n",
            "157/157 [==============================] - 32s 205ms/step - loss: 0.8577 - acc: 0.7496\n",
            "Epoch 79/100\n",
            "157/157 [==============================] - 32s 206ms/step - loss: 0.8332 - acc: 0.7572\n",
            "Epoch 80/100\n",
            "157/157 [==============================] - 33s 209ms/step - loss: 0.8152 - acc: 0.7622\n",
            "Epoch 81/100\n",
            "157/157 [==============================] - 33s 211ms/step - loss: 0.8250 - acc: 0.7653\n",
            "Epoch 82/100\n",
            "157/157 [==============================] - 33s 208ms/step - loss: 0.8119 - acc: 0.7605\n",
            "Epoch 83/100\n",
            "157/157 [==============================] - 33s 210ms/step - loss: 0.7851 - acc: 0.7698\n",
            "Epoch 84/100\n",
            "157/157 [==============================] - 33s 209ms/step - loss: 0.7803 - acc: 0.7698\n",
            "Epoch 85/100\n",
            "157/157 [==============================] - 33s 211ms/step - loss: 0.7652 - acc: 0.7730\n",
            "Epoch 86/100\n",
            "157/157 [==============================] - 32s 207ms/step - loss: 0.7595 - acc: 0.7759\n",
            "Epoch 87/100\n",
            "157/157 [==============================] - 33s 208ms/step - loss: 0.7453 - acc: 0.7775\n",
            "Epoch 88/100\n",
            "157/157 [==============================] - 33s 208ms/step - loss: 0.7335 - acc: 0.7831\n",
            "Epoch 89/100\n",
            "157/157 [==============================] - 33s 209ms/step - loss: 0.7351 - acc: 0.7793\n",
            "Epoch 90/100\n",
            "157/157 [==============================] - 33s 208ms/step - loss: 0.7167 - acc: 0.7870\n",
            "Epoch 91/100\n",
            "157/157 [==============================] - 33s 208ms/step - loss: 0.7129 - acc: 0.7860\n",
            "Epoch 92/100\n",
            "157/157 [==============================] - 33s 208ms/step - loss: 0.7083 - acc: 0.7880\n",
            "Epoch 93/100\n",
            "157/157 [==============================] - 33s 208ms/step - loss: 0.6980 - acc: 0.7901\n",
            "Epoch 94/100\n",
            "157/157 [==============================] - 33s 208ms/step - loss: 0.6908 - acc: 0.7908\n",
            "Epoch 95/100\n",
            "157/157 [==============================] - 33s 211ms/step - loss: 0.6870 - acc: 0.7913\n",
            "Epoch 96/100\n",
            "157/157 [==============================] - 33s 209ms/step - loss: 0.6780 - acc: 0.7916\n",
            "Epoch 97/100\n",
            "157/157 [==============================] - 33s 209ms/step - loss: 0.6622 - acc: 0.7963\n",
            "Epoch 98/100\n",
            "157/157 [==============================] - 32s 205ms/step - loss: 0.6456 - acc: 0.8022\n",
            "Epoch 99/100\n",
            "157/157 [==============================] - 32s 203ms/step - loss: 0.6549 - acc: 0.7993\n",
            "Epoch 100/100\n",
            "157/157 [==============================] - 32s 205ms/step - loss: 0.6509 - acc: 0.7992\n"
          ],
          "name": "stdout"
        }
      ]
    },
    {
      "cell_type": "code",
      "metadata": {
        "id": "1TUoJ5uc355X",
        "colab_type": "code",
        "colab": {}
      },
      "source": [
        "model.save(\"./song_lyrics_generator.h5\")"
      ],
      "execution_count": 0,
      "outputs": []
    },
    {
      "cell_type": "code",
      "metadata": {
        "id": "CeRSrR21dIRw",
        "colab_type": "code",
        "colab": {
          "base_uri": "https://localhost:8080/",
          "height": 513
        },
        "outputId": "a71d505b-aa07-4cf4-ac72-3b728f7cdaf7"
      },
      "source": [
        "from matplotlib import pyplot as plt\n",
        "\n",
        "acc = history.history['acc']\n",
        "loss = history.history['loss']\n",
        "\n",
        "plt.plot(acc, 'g', label='Training Accuracy', alpha=0.7)\n",
        "plt.legend()\n",
        "plt.show()\n",
        "\n",
        "plt.plot(loss, 'r', label='Training Loss', alpha=0.7)\n",
        "plt.legend()\n",
        "plt.show()"
      ],
      "execution_count": 14,
      "outputs": [
        {
          "output_type": "display_data",
          "data": {
            "image/png": "[encoded data removed]",
            "text/plain": [
              "<Figure size 432x288 with 1 Axes>"
            ]
          },
          "metadata": {
            "tags": [],
            "needs_background": "light"
          }
        },
        {
          "output_type": "display_data",
          "data": {
            "image/png": "[encoded data removed]",
            "text/plain": [
              "<Figure size 432x288 with 1 Axes>"
            ]
          },
          "metadata": {
            "tags": [],
            "needs_background": "light"
          }
        }
      ]
    },
    {
      "cell_type": "code",
      "metadata": {
        "id": "mAXHAzKHe6RO",
        "colab_type": "code",
        "colab": {}
      },
      "source": [
        "model.save(\"/content/drive/My Drive/lyric_generatorE100.h5\")"
      ],
      "execution_count": 0,
      "outputs": []
    },
    {
      "cell_type": "code",
      "metadata": {
        "id": "dMwIohqY394E",
        "colab_type": "code",
        "colab": {
          "base_uri": "https://localhost:8080/",
          "height": 71
        },
        "outputId": "a3db3096-8279-4821-d1ef-52ba2f97cae4"
      },
      "source": [
        "import numpy as np\n",
        "\n",
        "next_words = 200\n",
        "seed = \"you just want\"\n",
        "\n",
        "for _ in range(next_words):\n",
        "    token_list = tokenizer.texts_to_sequences([seed])[0]\n",
        "    token_list = pad_sequences([token_list], padding='pre', maxlen=max_len-1)\n",
        "    predicted = np.argmax(model.predict(token_list, verbose=0), axis=-1)\n",
        "    output_word = \"\"\n",
        "    for word, index in word_index.items():\n",
        "        if index == predicted:\n",
        "            output_word = word\n",
        "            break\n",
        "    seed += \" \" + output_word\n",
        "print(\"Generated Text\\n\", seed)"
      ],
      "execution_count": 27,
      "outputs": [
        {
          "output_type": "stream",
          "text": [
            "Generated Text\n",
            " you just want to hurt you baby i don't want to see you cry on your eye will try once more like a number one says that's all very fine makes me cry is your way to fly wing to show it wait and open seventeen care what to feels would sad so back to show to want to meet for those fine fine fine fine fine fine fine fine fine fine fine fine fine fine fine fine fine fine fine fine fine fine fine fine fine fine fine near the fireplace song chiquitita tell me one before your eyes there's like a song to see her face it's a memory a night of our own tale young and night we lies above no sees me sweet only seventeen care what to feels having what more out of myself to grow in size dam seems to die care what is fine we climb above out 'cause kind of fun will we makes myself would fine makes me cry and to found wild come from out of myself too makes me cry break of your break that has it take me laugh for me thing for the better that can turn you loose deny\n"
          ],
          "name": "stdout"
        }
      ]
    }
  ]
}